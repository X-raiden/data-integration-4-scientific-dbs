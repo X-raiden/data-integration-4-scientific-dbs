{
  "nbformat": 4,
  "nbformat_minor": 0,
  "metadata": {
    "colab": {
      "name": "data-integration",
      "provenance": [],
      "collapsed_sections": [],
      "authorship_tag": "ABX9TyOYLzI6EEg3JAzHI9R5dOhO",
      "include_colab_link": true
    },
    "kernelspec": {
      "name": "python3",
      "display_name": "Python 3"
    }
  },
  "cells": [
    {
      "cell_type": "markdown",
      "metadata": {
        "id": "view-in-github",
        "colab_type": "text"
      },
      "source": [
        "<a href=\"https://colab.research.google.com/github/X-raiden/data-integration-4-scientific-dbs/blob/master/data_integration.ipynb\" target=\"_parent\"><img src=\"https://colab.research.google.com/assets/colab-badge.svg\" alt=\"Open In Colab\"/></a>"
      ]
    },
    {
      "cell_type": "code",
      "metadata": {
        "id": "XX8Lt8lf4gP1"
      },
      "source": [
        "#imports\n",
        "import requests\n",
        "from selenium import webdriver\n",
        "from selenium.webdriver.common.keys import Keys\n",
        "from selenium.webdriver.support.ui import Select\n",
        "import time\n",
        "import json\n",
        "from scholarly import scholarly, ProxyGenerator\n",
        "import requests"
      ],
      "execution_count": 40,
      "outputs": []
    },
    {
      "cell_type": "code",
      "metadata": {
        "id": "oA0f7vRU_Br5"
      },
      "source": [
        "#scopus function\n",
        "def scopus():\n",
        "    data_details = []\n",
        "    with open('web_of_science.json','r') as target:\n",
        "        data = json.load(target)\n",
        "    for i in range(0,6):\n",
        "        resp = requests.get(\"http://api.elsevier.com/content/search/scopus?query=({\"+data[i]['titre']+\"})\",headers=({\"X-ELS-APIKey\":\"9d91974d46a4b958cafd78f34bbffcf0\"}))\n",
        "        #resp = requests.get(\"https://api.punkapi.com/v2/beers\")\n",
        "        data_details.append(resp.json())\n",
        "\n",
        "    with open('scopus.json','w') as target:\n",
        "        json.dump(data_details,target)\n",
        "    return 1"
      ],
      "execution_count": 41,
      "outputs": []
    },
    {
      "cell_type": "code",
      "metadata": {
        "id": "UcUJrWjP_CdF"
      },
      "source": [
        "#web of science function\n",
        "def web_of_science(name_of_school):\n",
        "    data = []\n",
        "    #auteurs = []\n",
        "    #keywords = []\n",
        "    #it needs a geckodriver 'installed from github'\n",
        "    driver = webdriver.Firefox(executable_path=\"/home/x-raiden/Downloads/geckodriver\")\n",
        "    driver.get(\"https://eressources.imist.ma/login?url=https://www.webofknowledge.com\")\n",
        "    #login to imist eressources\n",
        "    login = driver.find_element_by_xpath(\"/html/body/div[1]/form/div[2]/input\")\n",
        "    password = driver.find_element_by_xpath(\"/html/body/div[1]/form/div[3]/input\")\n",
        "    #personal infos\n",
        "    login.send_keys(\"ayoub.er-rkhis@usms.ac.ma\")\n",
        "    password.send_keys(\"@0000\")\n",
        "    button = driver.find_element_by_xpath(\"/html/body/div[1]/form/input\")\n",
        "    button.submit()\n",
        "    #we should to wait for the page ( slow internet :'( )\n",
        "    time.sleep(60)\n",
        "    #entred to web_of_science\n",
        "    main_selector = driver.find_element_by_xpath('//*[@id=\"select2-select1-container\"]').click()\n",
        "    search = driver.find_element_by_xpath('/html/body/span[37]/span/span[1]/input')\n",
        "    search.send_keys(\"Enhanced\")\n",
        "    selector = driver.find_element_by_xpath('/html/body/span[37]/span/span[2]').click()\n",
        "    search_bar = driver.find_element_by_xpath('//*[@id=\"value(input1)\"]')\n",
        "    search_bar.send_keys(name_of_school)\n",
        "    button_in_web_of_science = driver.find_element_by_xpath(\"/html/body/form[1]/div[1]/div/div/div/table/tbody/tr/td[3]/span/span[1]/button\")\n",
        "    button_in_web_of_science.submit()\n",
        "    #articles page\n",
        "    time.sleep(30)\n",
        "    driver.find_element_by_xpath('/html/body/div[1]/div[26]/div[2]/div/div/div/div[2]/div[3]/div[5]/form[2]/div/div[1]/div/span/div[2]/div[1]/div[3]/div/div[1]/div/a/value').click()\n",
        "    time.sleep(16)\n",
        "    for k in range (1,21):\n",
        "        try:\n",
        "            infos = {}\n",
        "            infos['titre'] = driver.find_element_by_xpath('/html/body/div[1]/div[26]/form[3]/div/div/div/div[1]/div/div[1]/value').text\n",
        "            infos['date_publication'] = driver.find_element_by_xpath('/html/body/div[1]/div[26]/form[3]/div/div/div/div[1]/div/div[3]/p[4]/value').text\n",
        "            infos['type'] = driver.find_element_by_xpath('/html/body/div[1]/div[26]/form[3]/div/div/div/div[1]/div/div[3]/p[5]').text\n",
        "            infos['auteurs'] = driver.find_element_by_xpath('/html/body/div[1]/div[26]/form[3]/div/div/div/div[1]/div/div[2]/p').text\n",
        "            infos['auteur_mail'] = driver.find_element_by_xpath('/html/body/div[1]/div[26]/form[3]/div/div/div/div[1]/div/div[6]/p[7]/a').text\n",
        "            infos['abstract'] = driver.find_element_by_xpath('/html/body/div[1]/div[26]/form[3]/div/div/div/div[1]/div/div[4]/p').text\n",
        "            infos['keywords'] = driver.find_element_by_xpath('/html/body/div[1]/div[26]/form[3]/div/div/div/div[1]/div/div[5]/p[1]').text\n",
        "            infos['cited'] = driver.find_element_by_xpath('/html/body/div[1]/div[26]/form[3]/div/div/div/div[2]/div[1]/div/div[6]/a/span').text\n",
        "            infos['organization'] = 'Sultan Moulay Slimane University of Beni Mellal'\n",
        "            data.append(infos)\n",
        "            driver.find_element_by_xpath('/html/body/div[1]/div[26]/div/form/span/a[2]').click()\n",
        "        except Exception as e:\n",
        "            driver.find_element_by_xpath('/html/body/div[1]/div[26]/div/form/span/a[2]').click()\n",
        "            pass\n",
        "\n",
        "    with open('web_of_science.json','w') as target:\n",
        "        json.dump(data,target)\n",
        "    return 1\n"
      ],
      "execution_count": 42,
      "outputs": []
    },
    {
      "cell_type": "code",
      "metadata": {
        "id": "Um-yazJB4o5Y"
      },
      "source": [
        "#google scholar function\n",
        "def google_scholar():\n",
        "    data_details = []\n",
        "    #search_query = scholarly.search_pubs('Experimental and theoretical investigations of lignin-urea-formaldehyde wood adhesive: Density functional theory analysis')\n",
        "    #scholarly.pprint(next(search_query))\n",
        "    with open('web_of_science.json','r') as target:\n",
        "        data = json.load(target)\n",
        "\n",
        "    for i in range(0,6):\n",
        "        name = data[i]['titre']\n",
        "        search_query = scholarly.search_pubs(name)\n",
        "        data_details.append(next(search_query)['bib'])\n",
        "        #print(next(search_query))\n",
        "\n",
        "    #print(data_details)\n",
        "    with open('gs.json','w') as target:\n",
        "        json.dump(data_details,target)\n",
        "    return 1"
      ],
      "execution_count": 43,
      "outputs": []
    },
    {
      "cell_type": "code",
      "metadata": {
        "id": "Jn46OSZ2-5eB"
      },
      "source": [
        "#not yet completed!!!!!!!!!!!!!!!!\n",
        "#science direct\n",
        "def science_direct():\n",
        "    data_details = []\n",
        "    with open('web_of_science.json','r') as target:\n",
        "        data = json.load(target)\n",
        "    for i in range(0,6):\n",
        "        resp = requests.get(\"https://api.elsevier.com/content/search/sciencedirect\",headers=({\"X-ELS-APIKey\":\"9d91974d46a4b958cafd78f34bbffcf0\"}))\n",
        "        #resp = requests.get(\"https://api.punkapi.com/v2/beers\")\n",
        "        #data_details.append(resp.json())\n",
        "        print(resp.json())\n",
        "    #with open('scopus.json','w') as target:\n",
        "    #    json.dump(data_details,target)\n",
        "    return 1"
      ],
      "execution_count": 65,
      "outputs": []
    },
    {
      "cell_type": "code",
      "metadata": {
        "colab": {
          "base_uri": "https://localhost:8080/"
        },
        "id": "GwLe2oRb_VHF",
        "outputId": "a1c6fb96-eac7-41ae-96f8-5ab6e29c0f31"
      },
      "source": [
        "#main function\n",
        "if __name__ == \"__main__\":\n",
        "    name_of_school = \"Sultan Moulay Slimane University of Beni Mellal \"\n",
        "    #web_of_science(name_of_school)\n",
        "    #scopus()\n",
        "    #google_scholar()\n",
        "    science_direct()"
      ],
      "execution_count": 67,
      "outputs": [
        {
          "output_type": "stream",
          "text": [
            "{'service-error': {'status': {'statusCode': 'AUTHORIZATION_ERROR', 'statusText': 'The requestor is not authorized to access the requested view or fields of the resource'}}}\n",
            "{'error-response': {'error-code': 'RATE_LIMIT_EXCEEDED', 'error-message': 'Rate of requests exceeds specified limits. Recommend lowering request rate and/or concurrency of requests.'}}\n",
            "{'service-error': {'status': {'statusCode': 'AUTHORIZATION_ERROR', 'statusText': 'The requestor is not authorized to access the requested view or fields of the resource'}}}\n",
            "{'error-response': {'error-code': 'RATE_LIMIT_EXCEEDED', 'error-message': 'Rate of requests exceeds specified limits. Recommend lowering request rate and/or concurrency of requests.'}}\n",
            "{'service-error': {'status': {'statusCode': 'AUTHORIZATION_ERROR', 'statusText': 'The requestor is not authorized to access the requested view or fields of the resource'}}}\n",
            "{'service-error': {'status': {'statusCode': 'AUTHORIZATION_ERROR', 'statusText': 'The requestor is not authorized to access the requested view or fields of the resource'}}}\n"
          ],
          "name": "stdout"
        }
      ]
    }
  ]
}