{
  "nbformat": 4,
  "nbformat_minor": 0,
  "metadata": {
    "colab": {
      "name": "data-integration",
      "provenance": [],
      "collapsed_sections": [],
      "authorship_tag": "ABX9TyNr/4dyLz3nJMjLuaupCEsS",
      "include_colab_link": true
    },
    "kernelspec": {
      "name": "python3",
      "display_name": "Python 3"
    }
  },
  "cells": [
    {
      "cell_type": "markdown",
      "metadata": {
        "id": "view-in-github",
        "colab_type": "text"
      },
      "source": [
        "<a href=\"https://colab.research.google.com/github/X-raiden/data-integration-4-scientific-dbs/blob/master/data_integration.ipynb\" target=\"_parent\"><img src=\"https://colab.research.google.com/assets/colab-badge.svg\" alt=\"Open In Colab\"/></a>"
      ]
    },
    {
      "cell_type": "code",
      "metadata": {
        "colab": {
          "base_uri": "https://localhost:8080/"
        },
        "id": "CYU87ZJx3hdG",
        "outputId": "dd6375d4-96af-4499-a793-0c9a9c7c8944"
      },
      "source": [
        "! pip install scholarly"
      ],
      "execution_count": 3,
      "outputs": [
        {
          "output_type": "stream",
          "text": [
            "Collecting scholarly\n",
            "  Downloading https://files.pythonhosted.org/packages/82/e3/a1b726e7e2a0d95e9e46efdf9323956def642226a7b3504f561cd1bd9fbb/scholarly-1.0.1-py3-none-any.whl\n",
            "Requirement already satisfied: PySocks in /usr/local/lib/python3.6/dist-packages (from scholarly) (1.7.1)\n",
            "Collecting python-dotenv\n",
            "  Downloading https://files.pythonhosted.org/packages/32/2e/e4585559237787966aad0f8fd0fc31df1c4c9eb0e62de458c5b6cde954eb/python_dotenv-0.15.0-py2.py3-none-any.whl\n",
            "Requirement already satisfied: requests[socks] in /usr/local/lib/python3.6/dist-packages (from scholarly) (2.23.0)\n",
            "Collecting free-proxy\n",
            "  Downloading https://files.pythonhosted.org/packages/04/e0/73bc201cfabca899daa033aeeeed37d30412fbd6c4877585a406f3a0fa99/free_proxy-1.0.2-py3-none-any.whl\n",
            "Collecting arrow\n",
            "\u001b[?25l  Downloading https://files.pythonhosted.org/packages/ca/bc/ebc1afb3c54377e128a01024c006f983d03ee124bc52392b78ba98c421b8/arrow-0.17.0-py2.py3-none-any.whl (50kB)\n",
            "\u001b[K     |████████████████████████████████| 51kB 6.7MB/s \n",
            "\u001b[?25hRequirement already satisfied: beautifulsoup4 in /usr/local/lib/python3.6/dist-packages (from scholarly) (4.6.3)\n",
            "Collecting selenium\n",
            "\u001b[?25l  Downloading https://files.pythonhosted.org/packages/80/d6/4294f0b4bce4de0abf13e17190289f9d0613b0a44e5dd6a7f5ca98459853/selenium-3.141.0-py2.py3-none-any.whl (904kB)\n",
            "\u001b[K     |████████████████████████████████| 911kB 18.3MB/s \n",
            "\u001b[?25hCollecting stem\n",
            "\u001b[?25l  Downloading https://files.pythonhosted.org/packages/71/bd/ab05ffcbfe74dca704e860312e00c53ef690b1ddcb23be7a4d9ea4f40260/stem-1.8.0.tar.gz (2.9MB)\n",
            "\u001b[K     |████████████████████████████████| 2.9MB 21.9MB/s \n",
            "\u001b[?25hCollecting fake-useragent\n",
            "  Downloading https://files.pythonhosted.org/packages/d1/79/af647635d6968e2deb57a208d309f6069d31cb138066d7e821e575112a80/fake-useragent-0.1.11.tar.gz\n",
            "Collecting bibtexparser\n",
            "\u001b[?25l  Downloading https://files.pythonhosted.org/packages/7c/c3/c184a4460ba2f4877e3389e2d63479f642d0d3bdffeeffee0723d3b0156d/bibtexparser-1.2.0.tar.gz (46kB)\n",
            "\u001b[K     |████████████████████████████████| 51kB 8.8MB/s \n",
            "\u001b[?25hCollecting sphinx-rtd-theme\n",
            "\u001b[?25l  Downloading https://files.pythonhosted.org/packages/c3/86/1addf25a238bbd8466bb099f23d9a9f13494b22b37b44f6c41a778b8730f/sphinx_rtd_theme-0.5.0-py2.py3-none-any.whl (10.8MB)\n",
            "\u001b[K     |████████████████████████████████| 10.8MB 17.4MB/s \n",
            "\u001b[?25hRequirement already satisfied: urllib3!=1.25.0,!=1.25.1,<1.26,>=1.21.1 in /usr/local/lib/python3.6/dist-packages (from requests[socks]->scholarly) (1.24.3)\n",
            "Requirement already satisfied: idna<3,>=2.5 in /usr/local/lib/python3.6/dist-packages (from requests[socks]->scholarly) (2.10)\n",
            "Requirement already satisfied: chardet<4,>=3.0.2 in /usr/local/lib/python3.6/dist-packages (from requests[socks]->scholarly) (3.0.4)\n",
            "Requirement already satisfied: certifi>=2017.4.17 in /usr/local/lib/python3.6/dist-packages (from requests[socks]->scholarly) (2020.12.5)\n",
            "Requirement already satisfied: lxml in /usr/local/lib/python3.6/dist-packages (from free-proxy->scholarly) (4.2.6)\n",
            "Requirement already satisfied: python-dateutil>=2.7.0 in /usr/local/lib/python3.6/dist-packages (from arrow->scholarly) (2.8.1)\n",
            "Requirement already satisfied: pyparsing>=2.0.3 in /usr/local/lib/python3.6/dist-packages (from bibtexparser->scholarly) (2.4.7)\n",
            "Requirement already satisfied: future>=0.16.0 in /usr/local/lib/python3.6/dist-packages (from bibtexparser->scholarly) (0.16.0)\n",
            "Requirement already satisfied: sphinx in /usr/local/lib/python3.6/dist-packages (from sphinx-rtd-theme->scholarly) (1.8.5)\n",
            "Requirement already satisfied: six>=1.5 in /usr/local/lib/python3.6/dist-packages (from python-dateutil>=2.7.0->arrow->scholarly) (1.15.0)\n",
            "Requirement already satisfied: babel!=2.0,>=1.3 in /usr/local/lib/python3.6/dist-packages (from sphinx->sphinx-rtd-theme->scholarly) (2.9.0)\n",
            "Requirement already satisfied: imagesize in /usr/local/lib/python3.6/dist-packages (from sphinx->sphinx-rtd-theme->scholarly) (1.2.0)\n",
            "Requirement already satisfied: sphinxcontrib-websupport in /usr/local/lib/python3.6/dist-packages (from sphinx->sphinx-rtd-theme->scholarly) (1.2.4)\n",
            "Requirement already satisfied: Pygments>=2.0 in /usr/local/lib/python3.6/dist-packages (from sphinx->sphinx-rtd-theme->scholarly) (2.6.1)\n",
            "Requirement already satisfied: Jinja2>=2.3 in /usr/local/lib/python3.6/dist-packages (from sphinx->sphinx-rtd-theme->scholarly) (2.11.2)\n",
            "Requirement already satisfied: packaging in /usr/local/lib/python3.6/dist-packages (from sphinx->sphinx-rtd-theme->scholarly) (20.7)\n",
            "Requirement already satisfied: alabaster<0.8,>=0.7 in /usr/local/lib/python3.6/dist-packages (from sphinx->sphinx-rtd-theme->scholarly) (0.7.12)\n",
            "Requirement already satisfied: setuptools in /usr/local/lib/python3.6/dist-packages (from sphinx->sphinx-rtd-theme->scholarly) (50.3.2)\n",
            "Requirement already satisfied: docutils>=0.11 in /usr/local/lib/python3.6/dist-packages (from sphinx->sphinx-rtd-theme->scholarly) (0.16)\n",
            "Requirement already satisfied: snowballstemmer>=1.1 in /usr/local/lib/python3.6/dist-packages (from sphinx->sphinx-rtd-theme->scholarly) (2.0.0)\n",
            "Requirement already satisfied: pytz>=2015.7 in /usr/local/lib/python3.6/dist-packages (from babel!=2.0,>=1.3->sphinx->sphinx-rtd-theme->scholarly) (2018.9)\n",
            "Requirement already satisfied: sphinxcontrib-serializinghtml in /usr/local/lib/python3.6/dist-packages (from sphinxcontrib-websupport->sphinx->sphinx-rtd-theme->scholarly) (1.1.4)\n",
            "Requirement already satisfied: MarkupSafe>=0.23 in /usr/local/lib/python3.6/dist-packages (from Jinja2>=2.3->sphinx->sphinx-rtd-theme->scholarly) (1.1.1)\n",
            "Building wheels for collected packages: stem, fake-useragent, bibtexparser\n",
            "  Building wheel for stem (setup.py) ... \u001b[?25l\u001b[?25hdone\n",
            "  Created wheel for stem: filename=stem-1.8.0-cp36-none-any.whl size=436041 sha256=1483eb7a277b1a62c2cb1e76f70c13cbbb312914e371b554d61bcb1992cfae9c\n",
            "  Stored in directory: /root/.cache/pip/wheels/02/3a/ee/1094b166e029353f892c0b121aa02f48aff5e658396924bc2a\n",
            "  Building wheel for fake-useragent (setup.py) ... \u001b[?25l\u001b[?25hdone\n",
            "  Created wheel for fake-useragent: filename=fake_useragent-0.1.11-cp36-none-any.whl size=13485 sha256=b82ae1430bcd84a34e2a56b64cc0742ab48b65fe2e50e0d4c51008c36cc4c534\n",
            "  Stored in directory: /root/.cache/pip/wheels/5e/63/09/d1dc15179f175357d3f5c00cbffbac37f9e8690d80545143ff\n",
            "  Building wheel for bibtexparser (setup.py) ... \u001b[?25l\u001b[?25hdone\n",
            "  Created wheel for bibtexparser: filename=bibtexparser-1.2.0-cp36-none-any.whl size=36712 sha256=722e4a75046a3df8f68dcade0b7a732c6b83f679b604aac7d950615c477b8c87\n",
            "  Stored in directory: /root/.cache/pip/wheels/b2/5a/e7/867bcbc3a81c15b675b931aa19b6698375c5a5e90419a366db\n",
            "Successfully built stem fake-useragent bibtexparser\n",
            "Installing collected packages: python-dotenv, free-proxy, arrow, selenium, stem, fake-useragent, bibtexparser, sphinx-rtd-theme, scholarly\n",
            "Successfully installed arrow-0.17.0 bibtexparser-1.2.0 fake-useragent-0.1.11 free-proxy-1.0.2 python-dotenv-0.15.0 scholarly-1.0.1 selenium-3.141.0 sphinx-rtd-theme-0.5.0 stem-1.8.0\n"
          ],
          "name": "stdout"
        }
      ]
    },
    {
      "cell_type": "code",
      "metadata": {
        "id": "XX8Lt8lf4gP1"
      },
      "source": [
        "#imports\n",
        "import requests\n",
        "from selenium import webdriver\n",
        "from selenium.webdriver.common.keys import Keys\n",
        "from selenium.webdriver.support.ui import Select\n",
        "import time\n",
        "import json\n",
        "from scholarly import scholarly, ProxyGenerator\n",
        "import requests\n",
        "import nltk"
      ],
      "execution_count": 82,
      "outputs": []
    },
    {
      "cell_type": "code",
      "metadata": {
        "id": "oA0f7vRU_Br5"
      },
      "source": [
        "#scopus function\n",
        "def scopus():\n",
        "    data_details = []\n",
        "    with open('web_of_science.json','r') as target:\n",
        "        data = json.load(target)\n",
        "    for i in range(0,6):\n",
        "        resp = requests.get(\"http://api.elsevier.com/content/search/scopus?query=({\"+data[i]['titre']+\"})\",headers=({\"X-ELS-APIKey\":\"9d91974d46a4b958cafd78f34bbffcf0\"}))\n",
        "        #resp = requests.get(\"https://api.punkapi.com/v2/beers\")\n",
        "        data_details.append(resp.json())\n",
        "\n",
        "    with open('scopus.json','w') as target:\n",
        "        json.dump(data_details,target)\n",
        "    return 1"
      ],
      "execution_count": 5,
      "outputs": []
    },
    {
      "cell_type": "code",
      "metadata": {
        "id": "UcUJrWjP_CdF"
      },
      "source": [
        "#web of science function\n",
        "def web_of_science(name_of_school):\n",
        "    data = []\n",
        "    #auteurs = []\n",
        "    #keywords = []\n",
        "    #it needs a geckodriver 'installed from github'\n",
        "    driver = webdriver.Firefox(executable_path=\"/home/x-raiden/Downloads/geckodriver\")\n",
        "    driver.get(\"https://eressources.imist.ma/login?url=https://www.webofknowledge.com\")\n",
        "    #login to imist eressources\n",
        "    login = driver.find_element_by_xpath(\"/html/body/div[1]/form/div[2]/input\")\n",
        "    password = driver.find_element_by_xpath(\"/html/body/div[1]/form/div[3]/input\")\n",
        "    #personal infos\n",
        "    login.send_keys(\"ayoub.er-rkhis@usms.ac.ma\")\n",
        "    password.send_keys(\"@0000\")\n",
        "    button = driver.find_element_by_xpath(\"/html/body/div[1]/form/input\")\n",
        "    button.submit()\n",
        "    #we should to wait for the page ( slow internet :'( )\n",
        "    time.sleep(60)\n",
        "    #entred to web_of_science\n",
        "    main_selector = driver.find_element_by_xpath('//*[@id=\"select2-select1-container\"]').click()\n",
        "    search = driver.find_element_by_xpath('/html/body/span[37]/span/span[1]/input')\n",
        "    search.send_keys(\"Enhanced\")\n",
        "    selector = driver.find_element_by_xpath('/html/body/span[37]/span/span[2]').click()\n",
        "    search_bar = driver.find_element_by_xpath('//*[@id=\"value(input1)\"]')\n",
        "    search_bar.send_keys(name_of_school)\n",
        "    button_in_web_of_science = driver.find_element_by_xpath(\"/html/body/form[1]/div[1]/div/div/div/table/tbody/tr/td[3]/span/span[1]/button\")\n",
        "    button_in_web_of_science.submit()\n",
        "    #articles page\n",
        "    time.sleep(30)\n",
        "    driver.find_element_by_xpath('/html/body/div[1]/div[26]/div[2]/div/div/div/div[2]/div[3]/div[5]/form[2]/div/div[1]/div/span/div[2]/div[1]/div[3]/div/div[1]/div/a/value').click()\n",
        "    time.sleep(16)\n",
        "    for k in range (1,21):\n",
        "        try:\n",
        "            infos = {}\n",
        "            infos['titre'] = driver.find_element_by_xpath('/html/body/div[1]/div[26]/form[3]/div/div/div/div[1]/div/div[1]/value').text\n",
        "            infos['date_publication'] = driver.find_element_by_xpath('/html/body/div[1]/div[26]/form[3]/div/div/div/div[1]/div/div[3]/p[4]/value').text\n",
        "            infos['type'] = driver.find_element_by_xpath('/html/body/div[1]/div[26]/form[3]/div/div/div/div[1]/div/div[3]/p[5]').text\n",
        "            infos['auteurs'] = driver.find_element_by_xpath('/html/body/div[1]/div[26]/form[3]/div/div/div/div[1]/div/div[2]/p').text\n",
        "            infos['auteur_mail'] = driver.find_element_by_xpath('/html/body/div[1]/div[26]/form[3]/div/div/div/div[1]/div/div[6]/p[7]/a').text\n",
        "            infos['abstract'] = driver.find_element_by_xpath('/html/body/div[1]/div[26]/form[3]/div/div/div/div[1]/div/div[4]/p').text\n",
        "            infos['keywords'] = driver.find_element_by_xpath('/html/body/div[1]/div[26]/form[3]/div/div/div/div[1]/div/div[5]/p[1]').text\n",
        "            infos['cited'] = driver.find_element_by_xpath('/html/body/div[1]/div[26]/form[3]/div/div/div/div[2]/div[1]/div/div[6]/a/span').text\n",
        "            infos['organization'] = 'Sultan Moulay Slimane University of Beni Mellal'\n",
        "            data.append(infos)\n",
        "            driver.find_element_by_xpath('/html/body/div[1]/div[26]/div/form/span/a[2]').click()\n",
        "        except Exception as e:\n",
        "            driver.find_element_by_xpath('/html/body/div[1]/div[26]/div/form/span/a[2]').click()\n",
        "            pass\n",
        "\n",
        "    with open('web_of_science.json','w') as target:\n",
        "        json.dump(data,target)\n",
        "    return 1\n"
      ],
      "execution_count": 6,
      "outputs": []
    },
    {
      "cell_type": "code",
      "metadata": {
        "id": "Um-yazJB4o5Y"
      },
      "source": [
        "#google scholar function\n",
        "def google_scholar():\n",
        "    data_details = []\n",
        "    #search_query = scholarly.search_pubs('Experimental and theoretical investigations of lignin-urea-formaldehyde wood adhesive: Density functional theory analysis')\n",
        "    #scholarly.pprint(next(search_query))\n",
        "    with open('web_of_science.json','r') as target:\n",
        "        data = json.load(target)\n",
        "\n",
        "    for i in range(0,6):\n",
        "        name = data[i]['titre']\n",
        "        search_query = scholarly.search_pubs(name)\n",
        "        data_details.append(next(search_query)['bib'])\n",
        "        #print(next(search_query))\n",
        "\n",
        "    #print(data_details)\n",
        "    with open('gs.json','w') as target:\n",
        "        json.dump(data_details,target)\n",
        "    return 1"
      ],
      "execution_count": 7,
      "outputs": []
    },
    {
      "cell_type": "code",
      "metadata": {
        "id": "Jn46OSZ2-5eB"
      },
      "source": [
        "#not yet completed!!!!!!!!!!!!!!!!\n",
        "#science direct\n",
        "def science_direct():\n",
        "    data_details = []\n",
        "    with open('web_of_science.json','r') as target:\n",
        "        data = json.load(target)\n",
        "    for i in range(0,6):\n",
        "        resp = requests.get(\"https://api.elsevier.com/content/search/sciencedirect\",headers=({\"X-ELS-APIKey\":\"9d91974d46a4b958cafd78f34bbffcf0\"}))\n",
        "        #resp = requests.get(\"https://api.punkapi.com/v2/beers\")\n",
        "        #data_details.append(resp.json())\n",
        "        print(resp.json())\n",
        "    #with open('scopus.json','w') as target:\n",
        "    #    json.dump(data_details,target)\n",
        "    return 1"
      ],
      "execution_count": 8,
      "outputs": []
    },
    {
      "cell_type": "code",
      "metadata": {
        "id": "NthocTjLGrQT"
      },
      "source": [
        "def integrate():\n",
        "  matched = []\n",
        "  results = []\n",
        "  with open(\"google_scholar.json\") as google:\n",
        "    gs = json.load(google)\n",
        "\n",
        "  with open(\"scopus.json\") as scopus:\n",
        "    scopus = json.load(scopus)\n",
        "\n",
        "  with open(\"web_of_science.json\") as wos:\n",
        "    ws = json.load(wos)\n",
        "\n",
        "  #matching between webofscience and scopus\n",
        "  for i in range(len(ws)):\n",
        "    for j in range(len(scopus)):\n",
        "      try:\n",
        "        seuil = nltk.jaccard_distance(set(ws[i]['titre']), set(scopus[j]['search-results']['entry'][0]['dc:title']))\n",
        "        if seuil<=0.2:\n",
        "          #print(\"same\")\n",
        "          matched.append(ws[i])\n",
        "      except:\n",
        "        pass\n",
        "\n",
        "  for i in range(len(ws)):\n",
        "    for j in range(len(gs)):\n",
        "      try:\n",
        "        seuil = nltk.jaccard_distance(set(matched[i]['titre']), set(gs[j]['title']))\n",
        "        if seuil<=0.2:\n",
        "          #print(\"same\")\n",
        "          results.append(ws[i])\n",
        "      except:\n",
        "        pass\n",
        "\n",
        "  \n",
        "  print(matched)"
      ],
      "execution_count": 100,
      "outputs": []
    },
    {
      "cell_type": "code",
      "metadata": {
        "colab": {
          "base_uri": "https://localhost:8080/"
        },
        "id": "GwLe2oRb_VHF",
        "outputId": "5870d0e2-b1f4-420a-9ae9-30c151c37831"
      },
      "source": [
        "#main function\n",
        "if __name__ == \"__main__\":\n",
        "    name_of_school = \"Sultan Moulay Slimane University of Beni Mellal \"\n",
        "    #web_of_science(name_of_school)\n",
        "    #scopus()\n",
        "    #google_scholar()\n",
        "    #science_direct()\n",
        "    integrate()"
      ],
      "execution_count": 101,
      "outputs": [
        {
          "output_type": "stream",
          "text": [
            "[{'titre': 'Experimental and theoretical investigations of lignin-urea-formaldehyde wood adhesive: Density functional theory analysis', 'date_publication': 'JAN 2021', 'type': 'Document Type:Article', 'auteurs': 'By:Boussetta, A (Boussetta, Abdelghani)[ 1 ] ; Benhamou, AA (Benhamou, Anass Ait)[ 1,2 ] ; Barba, FJ (Barba, Francisco J.)[ 3 ] ; Idrissi, ME (Idrissi, Mohammed EL.)[ 1 ] ; Grimi, N (Grimi, Nabil)[ 4 ] ; Moubarik, A (Moubarik, Amine)[ 1 ]', 'auteur_mail': 'amoubarik@gmail.com', 'abstract': 'In view of its chemical structure, lignin has recently become an interesting candidate for various applications. This work serves to optimize the isolation process of lignin from sugar industry by-product (bagasse can, molasses beet) applying alkali treatment. For this purpose, the effect of alkali and sulfuric acid concentrations have been studied ranging from 10% (w/v) to 20% (w/v) and 1.5 M-3 M, respectively. Moreover, the isolated lignins were characterized by different complementary analysis such as FT-IR and TGA/DTG.\\n\\nThe aim behind this work is to reduce formaldehyde emissions and improving mechanical as well as physical properties of wood adhesive. Lignin was added with different ratios, as partial substitution, in urea-formaldehyde (UF) (5:95; 10:90; 13:87 and 15:85, w: w) and compared to commercial control UF (0:100). Furthermore, a theoretical calculation, using the density functional theory (DFT)/B3LYP method validated that the coniferyl alcohol (G), sinapyl alcohol (S) and paracoumaryl alcohol (H) can suck up on the energy of the orbital borders, electronic affinity, electronic chemical potential and thermodynamic properties. The results obtained showed that the efficiency of these molecules is influenced with different degrees by several descriptors. It was also found that the compounds G and S out of H studied were more efficient within the density functional theory (DFT) at the B3LYP/6-31 (d,p) computational level.', 'keywords': 'Author Keywords:adhesive for wood; lignin; fracture mechanics; rheology; thermodynamic properties; DFT; formaldehyde', 'cited': '20', 'organization': 'Sultan Moulay Slimane University of Beni Mellal'}, {'titre': 'Physicochemical characterization of glass and polyethylene surfaces treated with different surfactants and their effects on bacterial adhesion', 'date_publication': 'JAN 2021', 'type': 'Document Type:Article', 'auteurs': 'By:Koubali, H (Koubali, Hajar)[ 1 ] ; El Louali, M (El Louali, Mostafa)[ 1 ] ; Zahir, H (Zahir, Hafida)[ 1 ] ; Soufiani, S (Soufiani, Soukaina)[ 1 ] ; Mabrouki, M (Mabrouki, Mustapha)[ 2 ] ; Latrache, H (Latrache, Hassan)[ 1 ]', 'auteur_mail': 'm.ellouali@hotmail.com', 'abstract': 'Bacterial proliferation in the form of biofilm fixed on a substrate is the result of a set of physical, chemical and biological processes. Microbial adhesion to a substrate is often considered to be the result of physicochemical interactions between the substrate and the microbial cells. These interactions include electrostatic interactions, Van der Waals interactions and acid-base interactions (electron donor electron acceptor). The exact role of these physicochemical properties is still poorly documented. The purpose of this work is to provide some clarifications on this subject.\\n\\nThe phenomenon of adhesion is often studied on clean surfaces, whereas in reality, it is always conditioned depending on its environment (medical, food or cosmetic). This is why in the present work we treated two different surfaces: glass and polyethylene, with diverse surfactants: nonionic, anionic and cationic. The choice of surfactants was motivated by its wide application in different fields. The physicochemical properties of the two substrata (treated and untreated) were defined using contact angle measurements. Moreover, the adhesive behavior of Staphylococcus aureus, as a bacterial model, on the studied substratum was assessed. The obtained results indicate that the physicochemical parameters of the two supports have changed in a specific way to each surfactant. The non-ionic surfactant turned both the surfaces more hydrophilic. However, the anionic and cationic surfactants have reversed the physicochemical characteristics of the surfaces. The correlation coefficients of the physicochemical properties and the adhesive behavior show that there is an association between the wettability of the two surfaces and the rate of the adherent cells.', 'keywords': 'Author Keywords:Surface treatment; Contact angle; Wettability; Surfactants', 'cited': '46', 'organization': 'Sultan Moulay Slimane University of Beni Mellal'}, {'titre': 'Some novel numerical techniques for an inverse Cauchy problem', 'date_publication': 'JAN 1 2021', 'type': 'Document Type:Article', 'auteurs': 'By:Nachaoui, A (Nachaoui, A.)[ 1 ] ; Nachaoui, M (Nachaoui, M.)[ 2 ] ; Chakib, A (Chakib, A.)[ 2 ] ; Hilal, MA (Hilal, M. A.)[ 3 ]', 'auteur_mail': 'nachaoui@gmail.com', 'abstract': \"In this paper, we are interested in solving an elliptic inverse Cauchy problem. As it is well known this problem is one of highly ill posed problem in Hadamard's sense (Hadamard, 1953). We first establish formally a relationship between the Cauchy problem and an interface problem illustrated in a rectangular structure divided into two domains. This relationship allows us to use classical methods of non-overlapping domain decomposition to develop some regularizing and stable algorithms for solving elliptic inverse Cauchy problem. Taking advantage of this relationship we reformulate this inverse problem into a fixed point one, based on Steklov-Poincare operator. Thus, using the topological degree of Leray-Schauder we show an existence result. Finally, the efficiency and the accuracy of the developed algorithms are discussed. (C) 2020 Elsevier B.V. All rights reserved.\", 'keywords': 'Author Keywords:Inverse Cauchy problem; Domain decomposition; Iterative algorithms; Steklov-Poincare operator; Finite elements; Numerical simulation', 'cited': '28', 'organization': 'Sultan Moulay Slimane University of Beni Mellal'}, {'titre': 'Understanding of anti-corrosive behavior of some tetrazole derivatives in acidic medium: Adsorption on Cu (111) surface using quantum chemical calculations and Monte Carlo simulations', 'date_publication': 'DEC 2020', 'type': 'Document Type:Article', 'auteurs': 'By:Bourzi, H (Bourzi, Hassan)[ 1 ] ; Oukhrib, R (Oukhrib, Rachid)[ 1 ] ; El Ibrahimi, B (El Ibrahimi, Brahim)[ 1 ] ; Abou Oualid, H (Abou Oualid, Hicham)[ 1,2 ] ; Abdellaoui, Y (Abdellaoui, Youness)[ 3 ] ; Balkard, B (Balkard, Bouchra)[ 4 ] ; Hilali, M (Hilali, Mustapha)[ 1 ] ; El Issami, S (El Issami, Souad)[ 1 ]', 'auteur_mail': 'h.bourzi@gmail.com', 'abstract': 'Herein, four tetrazole derivatives namely 1,2,3,4-tetrazole (TZ), 5-amino-1,2,3,4-tetrazole (ATZ), 1-phenyl-1,2,3,4-tetrazole (PTZ) and 1-phenyl-5-mercapto-1,2,3,4-tetrazole (PMTZ) were investigated as corrosion inhibitors on Cu (111) surface in acidic medium. For this purpose, theoretical investigations were carried out preferentially with Density Functional Theory (DFT) at Lee-Yang-Parr correlation functional (B3LYP) using 6-31 +g (2d, p) basis set. Numerous global and locale descriptors of reactivity such as E-HOMO, E-LUMO, energy gap, electronegativity (chi), hardness (eta), frontier molecular orbitals repartitions were investigated to describe the reactivity of each molecule. On the other hand, Monte Carlo simulations were investigated on Cu (111) surface to understand the adsorption behavior of the as-studied inhibitors deeply. The adsorption energies (Eads) were also calculated; the results were as follows: PMTZ (<) PTZ (<) ATZ (<) TZ. The experimental inhibition efficiencies were correlated with global descriptors, which confirm that this theoretical study is fruitful for the protection of copper metal in acidic medium.', 'keywords': 'Author Keywords:Tetrazole derivatives; DFT; MP2; Monte Carlo simulations; Adsorption energy and copper metal', 'cited': '66', 'organization': 'Sultan Moulay Slimane University of Beni Mellal'}, {'titre': 'Understanding of anti-corrosive behavior of some tetrazole derivatives in acidic medium: Adsorption on Cu (111) surface using quantum chemical calculations and Monte Carlo simulations', 'date_publication': 'DEC 2020', 'type': 'Document Type:Article', 'auteurs': 'By:Bourzi, H (Bourzi, Hassan)[ 1 ] ; Oukhrib, R (Oukhrib, Rachid)[ 1 ] ; El Ibrahimi, B (El Ibrahimi, Brahim)[ 1 ] ; Abou Oualid, H (Abou Oualid, Hicham)[ 1,2 ] ; Abdellaoui, Y (Abdellaoui, Youness)[ 3 ] ; Balkard, B (Balkard, Bouchra)[ 4 ] ; Hilali, M (Hilali, Mustapha)[ 1 ] ; El Issami, S (El Issami, Souad)[ 1 ]', 'auteur_mail': 'h.bourzi@gmail.com', 'abstract': 'Herein, four tetrazole derivatives namely 1,2,3,4-tetrazole (TZ), 5-amino-1,2,3,4-tetrazole (ATZ), 1-phenyl1,2,3,4-tetrazole (PTZ) and 1-phenyl-5-mercapto-1,2,3,4-tetrazole (PMTZ) were investigated as corrosion inhibitors on Cu (111) surface in acidic medium. For this purpose, theoretical investigations were carried out preferentially with Density Functional Theory (DFT) at Lee-Yang-Parr correlation functional (B3LYP) using 631+g (2d, p) basis set. Numerous global and locale descriptors of reactivity such as EHOMO, ELUMO, energy gap, electronegativity (chi), hardness (eta), frontier molecular orbitals repartitions were investigated to describe the reactivity of each molecule. On the other hand, Monte Carlo simulations were investigated on Cu (111) surface to understand the adsorption behavior of the as-studied inhibitors deeply. The adsorption energies (Eads) were also calculated; the results were as follows: PMTZ (<) PTZ (<) ATZ (<) TZ. The experimental inhibition efficiencies were correlated with global descriptors, which confirm that this theoretical study is fruitful for the protection of copper metal in acidic medium.', 'keywords': 'Author Keywords:Tetrazole derivatives; DFT; MP2; Monte Carlo simulations; Adsorption energy and copper metal', 'cited': '66', 'organization': 'Sultan Moulay Slimane University of Beni Mellal'}]\n"
          ],
          "name": "stdout"
        }
      ]
    }
  ]
}